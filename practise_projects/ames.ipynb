{
 "cells": [
  {
   "cell_type": "markdown",
   "id": "6bbedb66",
   "metadata": {},
   "source": [
    "## Problem Statment : to predict the sales price using Linear, Tree and any one ensemble method ..."
   ]
  },
  {
   "cell_type": "markdown",
   "id": "18993184",
   "metadata": {},
   "source": []
  }
 ],
 "metadata": {
  "language_info": {
   "name": "python"
  }
 },
 "nbformat": 4,
 "nbformat_minor": 5
}
