{
 "cells": [
  {
   "cell_type": "markdown",
   "id": "6bbedb66",
   "metadata": {},
   "source": [
    "## Problem Statment : to predict the sales price using Linear, Tree and any one ensemble method ..."
   ]
  },
  {
   "cell_type": "code",
   "execution_count": 86,
   "id": "36b320d7",
   "metadata": {},
   "outputs": [],
   "source": [
    "import numpy as np\n",
    "import pandas as pd\n",
    "import matplotlib.pyplot as plt\n",
    "import seaborn as sns"
   ]
  },
  {
   "cell_type": "code",
   "execution_count": 87,
   "id": "fa660357",
   "metadata": {},
   "outputs": [],
   "source": [
    "data = pd.read_csv('/Users/rohanpatil/Desktop/ai_ml_projects/practise_projects/Ames_Housing_Data.csv')"
   ]
  }
 ],
 "metadata": {
  "kernelspec": {
   "display_name": "Python 3",
   "language": "python",
   "name": "python3"
  },
  "language_info": {
   "codemirror_mode": {
    "name": "ipython",
    "version": 3
   },
   "file_extension": ".py",
   "mimetype": "text/x-python",
   "name": "python",
   "nbconvert_exporter": "python",
   "pygments_lexer": "ipython3",
   "version": "3.12.6"
  }
 },
 "nbformat": 4,
 "nbformat_minor": 5
}
